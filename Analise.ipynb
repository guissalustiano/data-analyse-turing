{
 "cells": [
  {
   "cell_type": "code",
   "execution_count": 1,
   "metadata": {},
   "outputs": [],
   "source": [
    "import pandas as pd\n",
    "import numpy as np\n",
    "import matplotlib.pyplot as plt\n",
    "%matplotlib inline \n",
    "import seaborn as sns\n",
    "\n",
    "import datetime"
   ]
  },
  {
   "cell_type": "code",
   "execution_count": 2,
   "metadata": {},
   "outputs": [],
   "source": [
    "df = pd.read_csv('spotify.csv', index_col=0)"
   ]
  },
  {
   "cell_type": "code",
   "execution_count": 3,
   "metadata": {},
   "outputs": [
    {
     "data": {
      "text/html": [
       "<div>\n",
       "<style scoped>\n",
       "    .dataframe tbody tr th:only-of-type {\n",
       "        vertical-align: middle;\n",
       "    }\n",
       "\n",
       "    .dataframe tbody tr th {\n",
       "        vertical-align: top;\n",
       "    }\n",
       "\n",
       "    .dataframe thead th {\n",
       "        text-align: right;\n",
       "    }\n",
       "</style>\n",
       "<table border=\"1\" class=\"dataframe\">\n",
       "  <thead>\n",
       "    <tr style=\"text-align: right;\">\n",
       "      <th></th>\n",
       "      <th>song_name</th>\n",
       "      <th>song_popularity</th>\n",
       "      <th>song_duration_ms</th>\n",
       "      <th>acousticness</th>\n",
       "      <th>danceability</th>\n",
       "      <th>energy</th>\n",
       "      <th>instrumentalness</th>\n",
       "      <th>key</th>\n",
       "      <th>liveness</th>\n",
       "      <th>loudness</th>\n",
       "      <th>audio_mode</th>\n",
       "      <th>speechiness</th>\n",
       "      <th>tempo</th>\n",
       "      <th>time_signature</th>\n",
       "      <th>audio_valence</th>\n",
       "    </tr>\n",
       "  </thead>\n",
       "  <tbody>\n",
       "    <tr>\n",
       "      <td>0</td>\n",
       "      <td>Boulevard of Broken Dreams</td>\n",
       "      <td>73</td>\n",
       "      <td>262333</td>\n",
       "      <td>0.005520000000000001kg</td>\n",
       "      <td>0.496mol/L</td>\n",
       "      <td>0.682</td>\n",
       "      <td>2.94e-05</td>\n",
       "      <td>8.0</td>\n",
       "      <td>0.0589</td>\n",
       "      <td>-4.095</td>\n",
       "      <td>1</td>\n",
       "      <td>0.0294</td>\n",
       "      <td>167.06</td>\n",
       "      <td>4</td>\n",
       "      <td>0.474</td>\n",
       "    </tr>\n",
       "    <tr>\n",
       "      <td>1</td>\n",
       "      <td>In The End</td>\n",
       "      <td>66</td>\n",
       "      <td>216933</td>\n",
       "      <td>0.0103kg</td>\n",
       "      <td>0.542mol/L</td>\n",
       "      <td>0.853</td>\n",
       "      <td>0.0</td>\n",
       "      <td>3.0</td>\n",
       "      <td>0.108</td>\n",
       "      <td>-6.407</td>\n",
       "      <td>0</td>\n",
       "      <td>0.0498</td>\n",
       "      <td>105.256</td>\n",
       "      <td>4</td>\n",
       "      <td>0.370</td>\n",
       "    </tr>\n",
       "    <tr>\n",
       "      <td>2</td>\n",
       "      <td>Seven Nation Army</td>\n",
       "      <td>76</td>\n",
       "      <td>231733</td>\n",
       "      <td>0.00817kg</td>\n",
       "      <td>0.737mol/L</td>\n",
       "      <td>0.463</td>\n",
       "      <td>0.447</td>\n",
       "      <td>0.0</td>\n",
       "      <td>0.255</td>\n",
       "      <td>-7.8279999999999985</td>\n",
       "      <td>1</td>\n",
       "      <td>0.0792</td>\n",
       "      <td>123.881</td>\n",
       "      <td>4</td>\n",
       "      <td>0.324</td>\n",
       "    </tr>\n",
       "    <tr>\n",
       "      <td>3</td>\n",
       "      <td>By The Way</td>\n",
       "      <td>74</td>\n",
       "      <td>216933</td>\n",
       "      <td>0.0264kg</td>\n",
       "      <td>0.451mol/L</td>\n",
       "      <td>0.97</td>\n",
       "      <td>0.00355</td>\n",
       "      <td>0.0</td>\n",
       "      <td>0.102</td>\n",
       "      <td>-4.938</td>\n",
       "      <td>1</td>\n",
       "      <td>0.107</td>\n",
       "      <td>122.444</td>\n",
       "      <td>4</td>\n",
       "      <td>0.198</td>\n",
       "    </tr>\n",
       "    <tr>\n",
       "      <td>4</td>\n",
       "      <td>How You Remind Me</td>\n",
       "      <td>56</td>\n",
       "      <td>223826</td>\n",
       "      <td>0.000954kg</td>\n",
       "      <td>0.447mol/L</td>\n",
       "      <td>0.7659999999999999</td>\n",
       "      <td>0.0</td>\n",
       "      <td>10.0</td>\n",
       "      <td>0.113</td>\n",
       "      <td>-5.065</td>\n",
       "      <td>1</td>\n",
       "      <td>0.0313</td>\n",
       "      <td>172.011</td>\n",
       "      <td>4</td>\n",
       "      <td>0.574</td>\n",
       "    </tr>\n",
       "    <tr>\n",
       "      <td>5</td>\n",
       "      <td>Bring Me To Life</td>\n",
       "      <td>80</td>\n",
       "      <td>235893</td>\n",
       "      <td>0.00895kg</td>\n",
       "      <td>0.316mol/L</td>\n",
       "      <td>0.945</td>\n",
       "      <td>1.85e-06</td>\n",
       "      <td>4.0</td>\n",
       "      <td>0.396</td>\n",
       "      <td>-3.169</td>\n",
       "      <td>0</td>\n",
       "      <td>0.124</td>\n",
       "      <td>189.931</td>\n",
       "      <td>4</td>\n",
       "      <td>0.320</td>\n",
       "    </tr>\n",
       "    <tr>\n",
       "      <td>6</td>\n",
       "      <td>Last Resort</td>\n",
       "      <td>81</td>\n",
       "      <td>199893</td>\n",
       "      <td>0.000504kg</td>\n",
       "      <td>0.581mol/L</td>\n",
       "      <td>0.887</td>\n",
       "      <td>0.00111</td>\n",
       "      <td>4.0</td>\n",
       "      <td>0.268</td>\n",
       "      <td>-3.659</td>\n",
       "      <td>0</td>\n",
       "      <td>0.0624</td>\n",
       "      <td>90.578</td>\n",
       "      <td>4</td>\n",
       "      <td>0.724</td>\n",
       "    </tr>\n",
       "    <tr>\n",
       "      <td>7</td>\n",
       "      <td>Are You Gonna Be My Girl</td>\n",
       "      <td>76</td>\n",
       "      <td>213800</td>\n",
       "      <td>0.00148kg</td>\n",
       "      <td>0.613mol/L</td>\n",
       "      <td>0.953</td>\n",
       "      <td>0.000582</td>\n",
       "      <td>2.0</td>\n",
       "      <td>0.152</td>\n",
       "      <td>-3.435</td>\n",
       "      <td>1</td>\n",
       "      <td>0.0855</td>\n",
       "      <td>105.046</td>\n",
       "      <td>4</td>\n",
       "      <td>0.537</td>\n",
       "    </tr>\n",
       "    <tr>\n",
       "      <td>8</td>\n",
       "      <td>Mr. Brightside</td>\n",
       "      <td>80</td>\n",
       "      <td>222586</td>\n",
       "      <td>0.00108kg</td>\n",
       "      <td>0.33mol/L</td>\n",
       "      <td>0.936</td>\n",
       "      <td>0.0</td>\n",
       "      <td>1.0</td>\n",
       "      <td>0.0926</td>\n",
       "      <td>-3.66</td>\n",
       "      <td>1</td>\n",
       "      <td>0.0917</td>\n",
       "      <td>148.112</td>\n",
       "      <td>4</td>\n",
       "      <td>0.234</td>\n",
       "    </tr>\n",
       "    <tr>\n",
       "      <td>9</td>\n",
       "      <td>Sex on Fire</td>\n",
       "      <td>81</td>\n",
       "      <td>203346</td>\n",
       "      <td>0.00172kg</td>\n",
       "      <td>0.542mol/L</td>\n",
       "      <td>0.905</td>\n",
       "      <td>0.0104</td>\n",
       "      <td>9.0</td>\n",
       "      <td>0.136</td>\n",
       "      <td>-5.653</td>\n",
       "      <td>1</td>\n",
       "      <td>0.054000000000000006</td>\n",
       "      <td>153.398</td>\n",
       "      <td>4</td>\n",
       "      <td>0.374</td>\n",
       "    </tr>\n",
       "    <tr>\n",
       "      <td>10</td>\n",
       "      <td>The Middle</td>\n",
       "      <td>78</td>\n",
       "      <td>168253</td>\n",
       "      <td>0.0424kg</td>\n",
       "      <td>0.629mol/L</td>\n",
       "      <td>0.897</td>\n",
       "      <td>0.0</td>\n",
       "      <td>2.0</td>\n",
       "      <td>0.263</td>\n",
       "      <td>-3.401</td>\n",
       "      <td>1</td>\n",
       "      <td>0.0483</td>\n",
       "      <td>161.944</td>\n",
       "      <td>4</td>\n",
       "      <td>0.930</td>\n",
       "    </tr>\n",
       "    <tr>\n",
       "      <td>11</td>\n",
       "      <td>Numb</td>\n",
       "      <td>63</td>\n",
       "      <td>185586</td>\n",
       "      <td>0.0046kg</td>\n",
       "      <td>0.496mol/L</td>\n",
       "      <td>0.863</td>\n",
       "      <td>0.0</td>\n",
       "      <td>9.0</td>\n",
       "      <td>0.639</td>\n",
       "      <td>-4.1530000000000005</td>\n",
       "      <td>1</td>\n",
       "      <td>0.0381</td>\n",
       "      <td>110.018</td>\n",
       "      <td>4</td>\n",
       "      <td>0.243</td>\n",
       "    </tr>\n",
       "    <tr>\n",
       "      <td>12</td>\n",
       "      <td>Smooth Criminal</td>\n",
       "      <td>75</td>\n",
       "      <td>209266</td>\n",
       "      <td>0.00434kg</td>\n",
       "      <td>0.647mol/L</td>\n",
       "      <td>0.964</td>\n",
       "      <td>0.0036</td>\n",
       "      <td>9.0</td>\n",
       "      <td>0.15</td>\n",
       "      <td>-4.225</td>\n",
       "      <td>0</td>\n",
       "      <td>0.06</td>\n",
       "      <td>126.942</td>\n",
       "      <td>4</td>\n",
       "      <td>0.875</td>\n",
       "    </tr>\n",
       "    <tr>\n",
       "      <td>13</td>\n",
       "      <td>Can't Stop</td>\n",
       "      <td>81</td>\n",
       "      <td>269000</td>\n",
       "      <td>0.0179kg</td>\n",
       "      <td>0.618mol/L</td>\n",
       "      <td>0.938</td>\n",
       "      <td>0.0</td>\n",
       "      <td>9.0</td>\n",
       "      <td>0.16699999999999998</td>\n",
       "      <td>-3.442</td>\n",
       "      <td>1</td>\n",
       "      <td>0.0456</td>\n",
       "      <td>91.455</td>\n",
       "      <td>4</td>\n",
       "      <td>0.875</td>\n",
       "    </tr>\n",
       "    <tr>\n",
       "      <td>14</td>\n",
       "      <td>Chop Suey!</td>\n",
       "      <td>69</td>\n",
       "      <td>210240</td>\n",
       "      <td>0.000353kg</td>\n",
       "      <td>0.42mol/L</td>\n",
       "      <td>0.929</td>\n",
       "      <td>0.0007469999999999999</td>\n",
       "      <td>7.0</td>\n",
       "      <td>0.122</td>\n",
       "      <td>-3.899</td>\n",
       "      <td>0</td>\n",
       "      <td>0.121</td>\n",
       "      <td>127.204</td>\n",
       "      <td>4</td>\n",
       "      <td>0.300</td>\n",
       "    </tr>\n",
       "  </tbody>\n",
       "</table>\n",
       "</div>"
      ],
      "text/plain": [
       "                     song_name song_popularity song_duration_ms  \\\n",
       "0   Boulevard of Broken Dreams              73           262333   \n",
       "1                   In The End              66           216933   \n",
       "2            Seven Nation Army              76           231733   \n",
       "3                   By The Way              74           216933   \n",
       "4            How You Remind Me              56           223826   \n",
       "5             Bring Me To Life              80           235893   \n",
       "6                  Last Resort              81           199893   \n",
       "7     Are You Gonna Be My Girl              76           213800   \n",
       "8               Mr. Brightside              80           222586   \n",
       "9                  Sex on Fire              81           203346   \n",
       "10                  The Middle              78           168253   \n",
       "11                        Numb              63           185586   \n",
       "12             Smooth Criminal              75           209266   \n",
       "13                  Can't Stop              81           269000   \n",
       "14                  Chop Suey!              69           210240   \n",
       "\n",
       "              acousticness danceability              energy  \\\n",
       "0   0.005520000000000001kg   0.496mol/L               0.682   \n",
       "1                 0.0103kg   0.542mol/L               0.853   \n",
       "2                0.00817kg   0.737mol/L               0.463   \n",
       "3                 0.0264kg   0.451mol/L                0.97   \n",
       "4               0.000954kg   0.447mol/L  0.7659999999999999   \n",
       "5                0.00895kg   0.316mol/L               0.945   \n",
       "6               0.000504kg   0.581mol/L               0.887   \n",
       "7                0.00148kg   0.613mol/L               0.953   \n",
       "8                0.00108kg    0.33mol/L               0.936   \n",
       "9                0.00172kg   0.542mol/L               0.905   \n",
       "10                0.0424kg   0.629mol/L               0.897   \n",
       "11                0.0046kg   0.496mol/L               0.863   \n",
       "12               0.00434kg   0.647mol/L               0.964   \n",
       "13                0.0179kg   0.618mol/L               0.938   \n",
       "14              0.000353kg    0.42mol/L               0.929   \n",
       "\n",
       "         instrumentalness   key             liveness             loudness  \\\n",
       "0                2.94e-05   8.0               0.0589               -4.095   \n",
       "1                     0.0   3.0                0.108               -6.407   \n",
       "2                   0.447   0.0                0.255  -7.8279999999999985   \n",
       "3                 0.00355   0.0                0.102               -4.938   \n",
       "4                     0.0  10.0                0.113               -5.065   \n",
       "5                1.85e-06   4.0                0.396               -3.169   \n",
       "6                 0.00111   4.0                0.268               -3.659   \n",
       "7                0.000582   2.0                0.152               -3.435   \n",
       "8                     0.0   1.0               0.0926                -3.66   \n",
       "9                  0.0104   9.0                0.136               -5.653   \n",
       "10                    0.0   2.0                0.263               -3.401   \n",
       "11                    0.0   9.0                0.639  -4.1530000000000005   \n",
       "12                 0.0036   9.0                 0.15               -4.225   \n",
       "13                    0.0   9.0  0.16699999999999998               -3.442   \n",
       "14  0.0007469999999999999   7.0                0.122               -3.899   \n",
       "\n",
       "   audio_mode           speechiness    tempo time_signature  audio_valence  \n",
       "0           1                0.0294   167.06              4          0.474  \n",
       "1           0                0.0498  105.256              4          0.370  \n",
       "2           1                0.0792  123.881              4          0.324  \n",
       "3           1                 0.107  122.444              4          0.198  \n",
       "4           1                0.0313  172.011              4          0.574  \n",
       "5           0                 0.124  189.931              4          0.320  \n",
       "6           0                0.0624   90.578              4          0.724  \n",
       "7           1                0.0855  105.046              4          0.537  \n",
       "8           1                0.0917  148.112              4          0.234  \n",
       "9           1  0.054000000000000006  153.398              4          0.374  \n",
       "10          1                0.0483  161.944              4          0.930  \n",
       "11          1                0.0381  110.018              4          0.243  \n",
       "12          0                  0.06  126.942              4          0.875  \n",
       "13          1                0.0456   91.455              4          0.875  \n",
       "14          0                 0.121  127.204              4          0.300  "
      ]
     },
     "execution_count": 3,
     "metadata": {},
     "output_type": "execute_result"
    }
   ],
   "source": [
    "df.head(15)"
   ]
  },
  {
   "cell_type": "code",
   "execution_count": 4,
   "metadata": {
    "scrolled": true
   },
   "outputs": [
    {
     "name": "stdout",
     "output_type": "stream",
     "text": [
      "<class 'pandas.core.frame.DataFrame'>\n",
      "Int64Index: 18835 entries, 0 to 18834\n",
      "Data columns (total 15 columns):\n",
      "song_name           18835 non-null object\n",
      "song_popularity     18835 non-null object\n",
      "song_duration_ms    18835 non-null object\n",
      "acousticness        18835 non-null object\n",
      "danceability        18835 non-null object\n",
      "energy              18835 non-null object\n",
      "instrumentalness    18835 non-null object\n",
      "key                 18835 non-null float64\n",
      "liveness            18835 non-null object\n",
      "loudness            18835 non-null object\n",
      "audio_mode          18835 non-null object\n",
      "speechiness         18835 non-null object\n",
      "tempo               18835 non-null object\n",
      "time_signature      18835 non-null object\n",
      "audio_valence       18834 non-null float64\n",
      "dtypes: float64(2), object(13)\n",
      "memory usage: 2.3+ MB\n"
     ]
    }
   ],
   "source": [
    "df.info()"
   ]
  },
  {
   "cell_type": "code",
   "execution_count": 5,
   "metadata": {},
   "outputs": [],
   "source": [
    "def isInt(s):\n",
    "    try: \n",
    "        np.int(s)\n",
    "        return True\n",
    "    except ValueError:\n",
    "        return False"
   ]
  },
  {
   "cell_type": "code",
   "execution_count": 6,
   "metadata": {},
   "outputs": [],
   "source": [
    "def isFloat(s):\n",
    "    try: \n",
    "        float(s)\n",
    "        return True\n",
    "    except ValueError:\n",
    "        return False"
   ]
  },
  {
   "cell_type": "code",
   "execution_count": 7,
   "metadata": {},
   "outputs": [
    {
     "data": {
      "text/plain": [
       "<matplotlib.axes._subplots.AxesSubplot at 0x20b862603c8>"
      ]
     },
     "execution_count": 7,
     "metadata": {},
     "output_type": "execute_result"
    },
    {
     "data": {
      "image/png": "[encoded data removed]",
      "text/plain": [
       "<Figure size 432x288 with 1 Axes>"
      ]
     },
     "metadata": {
      "needs_background": "light"
     },
     "output_type": "display_data"
    }
   ],
   "source": [
    "df['song_duration_ms'] = df['song_duration_ms'].apply(lambda a: np.int(a) if isInt(a) and int(a) > 0 else np.NaN)\n",
    "sns.distplot(df['song_duration_ms'].dropna())"
   ]
  },
  {
   "cell_type": "code",
   "execution_count": 8,
   "metadata": {},
   "outputs": [
    {
     "data": {
      "text/plain": [
       "<matplotlib.axes._subplots.AxesSubplot at 0x20b85d8c688>"
      ]
     },
     "execution_count": 8,
     "metadata": {},
     "output_type": "execute_result"
    },
    {
     "data": {
      "image/png": "[encoded data removed]",
      "text/plain": [
       "<Figure size 432x288 with 1 Axes>"
      ]
     },
     "metadata": {
      "needs_background": "light"
     },
     "output_type": "display_data"
    }
   ],
   "source": [
    "df['song_popularity'] = df['song_popularity'].apply(lambda a: np.int(a) if isInt(a) else np.NaN)\n",
    "sns.distplot(df['song_popularity'].dropna())"
   ]
  },
  {
   "cell_type": "code",
   "execution_count": 9,
   "metadata": {},
   "outputs": [
    {
     "data": {
      "text/plain": [
       "<matplotlib.axes._subplots.AxesSubplot at 0x20b85c091c8>"
      ]
     },
     "execution_count": 9,
     "metadata": {},
     "output_type": "execute_result"
    },
    {
     "data": {
      "image/png": "[encoded data removed]",
      "text/plain": [
       "<Figure size 432x288 with 1 Axes>"
      ]
     },
     "metadata": {
      "needs_background": "light"
     },
     "output_type": "display_data"
    }
   ],
   "source": [
    "df['acousticness'] = df['acousticness'].replace(r'[\\D\\.]', '', regex=True)\n",
    "df['acousticness'] = df['acousticness'].astype(float)\n",
    "df['acousticness'].plot()"
   ]
  },
  {
   "cell_type": "code",
   "execution_count": 10,
   "metadata": {},
   "outputs": [],
   "source": [
    "df['danceability'] = df['danceability'].replace(r'[\\D\\.]', '', regex=True)\n",
    "df['danceability'] = df['danceability'].astype(float)"
   ]
  },
  {
   "cell_type": "code",
   "execution_count": 11,
   "metadata": {},
   "outputs": [
    {
     "data": {
      "text/plain": [
       "<matplotlib.axes._subplots.AxesSubplot at 0x20b85e213c8>"
      ]
     },
     "execution_count": 11,
     "metadata": {},
     "output_type": "execute_result"
    },
    {
     "data": {
      "image/png": "[encoded data removed]",
      "text/plain": [
       "<Figure size 432x288 with 1 Axes>"
      ]
     },
     "metadata": {
      "needs_background": "light"
     },
     "output_type": "display_data"
    }
   ],
   "source": [
    "df['danceability'].plot()"
   ]
  },
  {
   "cell_type": "code",
   "execution_count": 12,
   "metadata": {},
   "outputs": [
    {
     "data": {
      "text/plain": [
       "<matplotlib.axes._subplots.AxesSubplot at 0x20b86495408>"
      ]
     },
     "execution_count": 12,
     "metadata": {},
     "output_type": "execute_result"
    },
    {
     "data": {
      "image/png": "[encoded data removed]",
      "text/plain": [
       "<Figure size 432x288 with 1 Axes>"
      ]
     },
     "metadata": {
      "needs_background": "light"
     },
     "output_type": "display_data"
    }
   ],
   "source": [
    "sns.boxplot(df['danceability'].dropna())"
   ]
  },
  {
   "cell_type": "code",
   "execution_count": 13,
   "metadata": {},
   "outputs": [
    {
     "data": {
      "text/plain": [
       "<matplotlib.axes._subplots.AxesSubplot at 0x20b85c7d2c8>"
      ]
     },
     "execution_count": 13,
     "metadata": {},
     "output_type": "execute_result"
    },
    {
     "data": {
      "image/png": "[encoded data removed]",
      "text/plain": [
       "<Figure size 432x288 with 1 Axes>"
      ]
     },
     "metadata": {
      "needs_background": "light"
     },
     "output_type": "display_data"
    }
   ],
   "source": [
    "df['energy'] = df['energy'].apply(lambda a: np.float(a) if isFloat(a) else np.NaN)\n",
    "sns.distplot(df['energy'].dropna())"
   ]
  },
  {
   "cell_type": "code",
   "execution_count": 14,
   "metadata": {},
   "outputs": [
    {
     "data": {
      "text/plain": [
       "<matplotlib.axes._subplots.AxesSubplot at 0x20b86524348>"
      ]
     },
     "execution_count": 14,
     "metadata": {},
     "output_type": "execute_result"
    },
    {
     "data": {
      "image/png": "[encoded data removed]",
      "text/plain": [
       "<Figure size 432x288 with 1 Axes>"
      ]
     },
     "metadata": {
      "needs_background": "light"
     },
     "output_type": "display_data"
    }
   ],
   "source": [
    "df['instrumentalness'] = df['instrumentalness'].apply(lambda a: np.float(a) if isFloat(a) else np.NaN)\n",
    "sns.distplot(df['instrumentalness'].dropna())"
   ]
  },
  {
   "cell_type": "code",
   "execution_count": 15,
   "metadata": {},
   "outputs": [
    {
     "data": {
      "text/plain": [
       "<matplotlib.axes._subplots.AxesSubplot at 0x20b866032c8>"
      ]
     },
     "execution_count": 15,
     "metadata": {},
     "output_type": "execute_result"
    },
    {
     "data": {
      "image/png": "[encoded data removed]",
      "text/plain": [
       "<Figure size 432x288 with 1 Axes>"
      ]
     },
     "metadata": {
      "needs_background": "light"
     },
     "output_type": "display_data"
    }
   ],
   "source": [
    "df['liveness'] = df['liveness'].apply(lambda a: np.float(a) if isFloat(a) else np.NaN)\n",
    "sns.distplot(df['liveness'].dropna())"
   ]
  },
  {
   "cell_type": "code",
   "execution_count": 16,
   "metadata": {},
   "outputs": [
    {
     "data": {
      "text/plain": [
       "<matplotlib.axes._subplots.AxesSubplot at 0x20b86689bc8>"
      ]
     },
     "execution_count": 16,
     "metadata": {},
     "output_type": "execute_result"
    },
    {
     "data": {
      "image/png": "[encoded data removed]",
      "text/plain": [
       "<Figure size 432x288 with 1 Axes>"
      ]
     },
     "metadata": {
      "needs_background": "light"
     },
     "output_type": "display_data"
    }
   ],
   "source": [
    "df['loudness'] = df['loudness'].apply(lambda a: np.float(a) if isFloat(a) else np.NaN)\n",
    "sns.distplot(df['loudness'].dropna())"
   ]
  },
  {
   "cell_type": "code",
   "execution_count": 17,
   "metadata": {},
   "outputs": [
    {
     "data": {
      "text/plain": [
       "audio_mode\n",
       "0           7003\n",
       "0.105          1\n",
       "1          11830\n",
       "nao_sei        1\n",
       "Name: key, dtype: int64"
      ]
     },
     "execution_count": 17,
     "metadata": {},
     "output_type": "execute_result"
    }
   ],
   "source": [
    "df.groupby('audio_mode')['key'].count()"
   ]
  },
  {
   "cell_type": "code",
   "execution_count": 18,
   "metadata": {},
   "outputs": [
    {
     "data": {
      "text/plain": [
       "audio_mode\n",
       "0.0     7003\n",
       "1.0    11830\n",
       "Name: key, dtype: int64"
      ]
     },
     "execution_count": 18,
     "metadata": {},
     "output_type": "execute_result"
    }
   ],
   "source": [
    "df['audio_mode'] = df['audio_mode'].apply(lambda a: np.int(a) if a == '1' or a == '0' or a == 1 or a == 0 else np.NaN)\n",
    "df.groupby('audio_mode')['key'].count()"
   ]
  },
  {
   "cell_type": "code",
   "execution_count": 19,
   "metadata": {},
   "outputs": [
    {
     "data": {
      "text/plain": [
       "<matplotlib.axes._subplots.AxesSubplot at 0x20b86790cc8>"
      ]
     },
     "execution_count": 19,
     "metadata": {},
     "output_type": "execute_result"
    },
    {
     "data": {
      "image/png": "[encoded data removed]",
      "text/plain": [
       "<Figure size 432x288 with 1 Axes>"
      ]
     },
     "metadata": {
      "needs_background": "light"
     },
     "output_type": "display_data"
    }
   ],
   "source": [
    "df['speechiness'] = df['speechiness'].dropna().apply(lambda a: np.float(a) if isFloat(a) else np.NaN)\n",
    "sns.distplot(df['speechiness'].dropna())"
   ]
  },
  {
   "cell_type": "code",
   "execution_count": 20,
   "metadata": {},
   "outputs": [
    {
     "data": {
      "text/plain": [
       "speechiness\n",
       "0.0000     2\n",
       "0.0224     1\n",
       "0.0228     4\n",
       "0.0229     1\n",
       "0.0231     3\n",
       "          ..\n",
       "0.9150     1\n",
       "0.9360     1\n",
       "0.9400     1\n",
       "0.9410     1\n",
       "97.4200    1\n",
       "Name: key, Length: 1225, dtype: int64"
      ]
     },
     "execution_count": 20,
     "metadata": {},
     "output_type": "execute_result"
    }
   ],
   "source": [
    "df.groupby('speechiness')['key'].count() # achei vc desgraçado"
   ]
  },
  {
   "cell_type": "code",
   "execution_count": 21,
   "metadata": {},
   "outputs": [
    {
     "data": {
      "text/plain": [
       "<matplotlib.axes._subplots.AxesSubplot at 0x20b87d41d88>"
      ]
     },
     "execution_count": 21,
     "metadata": {},
     "output_type": "execute_result"
    },
    {
     "data": {
      "image/png": "[encoded data removed]",
      "text/plain": [
       "<Figure size 432x288 with 1 Axes>"
      ]
     },
     "metadata": {
      "needs_background": "light"
     },
     "output_type": "display_data"
    }
   ],
   "source": [
    "df['speechiness'] = df['speechiness'].apply(lambda a: np.float(a) if isFloat(a) and float(a) <= 1 else np.NaN)\n",
    "sns.distplot(df['speechiness'].dropna())"
   ]
  },
  {
   "cell_type": "code",
   "execution_count": 22,
   "metadata": {},
   "outputs": [
    {
     "data": {
      "text/plain": [
       "<matplotlib.axes._subplots.AxesSubplot at 0x20b87e55a48>"
      ]
     },
     "execution_count": 22,
     "metadata": {},
     "output_type": "execute_result"
    },
    {
     "data": {
      "image/png": "[encoded data removed]",
      "text/plain": [
       "<Figure size 432x288 with 1 Axes>"
      ]
     },
     "metadata": {
      "needs_background": "light"
     },
     "output_type": "display_data"
    }
   ],
   "source": [
    "df['tempo'] = df['tempo'].apply(lambda a: np.float(a) if isFloat(a) else np.NaN)\n",
    "sns.distplot(df['tempo'].dropna())"
   ]
  },
  {
   "cell_type": "code",
   "execution_count": 23,
   "metadata": {},
   "outputs": [
    {
     "data": {
      "text/plain": [
       "time_signature\n",
       "0                 3\n",
       "0.7               1\n",
       "1                73\n",
       "2800000000        1\n",
       "3               772\n",
       "4             17751\n",
       "5               233\n",
       "nao_sei           1\n",
       "Name: key, dtype: int64"
      ]
     },
     "execution_count": 23,
     "metadata": {},
     "output_type": "execute_result"
    }
   ],
   "source": [
    "df.groupby('time_signature')['key'].count()"
   ]
  },
  {
   "cell_type": "code",
   "execution_count": 24,
   "metadata": {},
   "outputs": [
    {
     "data": {
      "text/plain": [
       "time_signature\n",
       "0.0        3\n",
       "1.0       73\n",
       "3.0      772\n",
       "4.0    17751\n",
       "5.0      233\n",
       "Name: key, dtype: int64"
      ]
     },
     "execution_count": 24,
     "metadata": {},
     "output_type": "execute_result"
    }
   ],
   "source": [
    "df['time_signature'] = df['time_signature'].apply(lambda a: np.int(a) if isInt(a) and int(a) <= 5 else np.NaN)\n",
    "df.groupby('time_signature')['key'].count()"
   ]
  },
  {
   "cell_type": "code",
   "execution_count": 25,
   "metadata": {},
   "outputs": [
    {
     "data": {
      "text/plain": [
       "<matplotlib.axes._subplots.AxesSubplot at 0x20b881166c8>"
      ]
     },
     "execution_count": 25,
     "metadata": {},
     "output_type": "execute_result"
    },
    {
     "data": {
      "image/png": "[encoded data removed]",
      "text/plain": [
       "<Figure size 432x288 with 1 Axes>"
      ]
     },
     "metadata": {
      "needs_background": "light"
     },
     "output_type": "display_data"
    }
   ],
   "source": [
    "df['audio_valence'].apply(lambda a: np.float(a) if isFloat(a) else np.NaN)\n",
    "sns.distplot(df['audio_valence'].dropna())"
   ]
  },
  {
   "cell_type": "code",
   "execution_count": 26,
   "metadata": {},
   "outputs": [
    {
     "name": "stdout",
     "output_type": "stream",
     "text": [
      "<class 'pandas.core.frame.DataFrame'>\n",
      "Int64Index: 18835 entries, 0 to 18834\n",
      "Data columns (total 15 columns):\n",
      "song_name           18835 non-null object\n",
      "song_popularity     18834 non-null float64\n",
      "song_duration_ms    18833 non-null float64\n",
      "acousticness        18835 non-null float64\n",
      "danceability        18835 non-null float64\n",
      "energy              18834 non-null float64\n",
      "instrumentalness    18833 non-null float64\n",
      "key                 18835 non-null float64\n",
      "liveness            18831 non-null float64\n",
      "loudness            18834 non-null float64\n",
      "audio_mode          18833 non-null float64\n",
      "speechiness         18833 non-null float64\n",
      "tempo               18834 non-null float64\n",
      "time_signature      18832 non-null float64\n",
      "audio_valence       18834 non-null float64\n",
      "dtypes: float64(14), object(1)\n",
      "memory usage: 2.3+ MB\n"
     ]
    }
   ],
   "source": [
    "df.info()"
   ]
  }
 ],
 "metadata": {
  "kernelspec": {
   "display_name": "Python 3",
   "language": "python",
   "name": "python3"
  },
  "language_info": {
   "codemirror_mode": {
    "name": "ipython",
    "version": 3
   },
   "file_extension": ".py",
   "mimetype": "text/x-python",
   "name": "python",
   "nbconvert_exporter": "python",
   "pygments_lexer": "ipython3",
   "version": "3.7.4"
  }
 },
 "nbformat": 4,
 "nbformat_minor": 2
}
